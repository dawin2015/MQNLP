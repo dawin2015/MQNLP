{
 "cells": [
  {
   "cell_type": "markdown",
   "metadata": {
    "collapsed": true
   },
   "source": [
    "### fastText的TensorFlow实现"
   ]
  },
  {
   "cell_type": "code",
   "execution_count": 3,
   "metadata": {
    "collapsed": true
   },
   "outputs": [],
   "source": [
    "# coding=utf-8\n",
    "import numpy as np\n",
    "import re\n",
    "import os\n",
    "import codecs\n",
    "\n",
    "import tensorflow as tf\n",
    "\n",
    "import time\n",
    "import datetime\n",
    "\n",
    "from sklearn.utils import shuffle"
   ]
  },
  {
   "cell_type": "markdown",
   "metadata": {},
   "source": [
    "#### 1.相关参数配置"
   ]
  },
  {
   "cell_type": "code",
   "execution_count": 4,
   "metadata": {},
   "outputs": [
    {
     "name": "stdout",
     "output_type": "stream",
     "text": [
      "\n",
      "Parameters\n",
      "ALLOW_SOFT_PLACEMENT=True\n",
      "BATCH_SIZE=32\n",
      "CHECKPOINT_EVERY=100\n",
      "DEV_SAMPLE_PERCENTAGE=0.1\n",
      "DROPOUT_KEEP_PROB=0.5\n",
      "EMBEDDING_DIM=200\n",
      "EVALUATE_EVERY=100\n",
      "FILE_PATH=thu_data_3class_3w\n",
      "L2_REG_LAMBDA=0.0\n",
      "LOG_DEVICE_PLACEMENT=False\n",
      "NUM_CHECKPOINTS=5\n",
      "NUM_CLASSES=3\n",
      "NUM_EPOCHS=100\n",
      "\n"
     ]
    }
   ],
   "source": [
    "# Data loading params\n",
    "tf.flags.DEFINE_float(\"dev_sample_percentage\", .1, \"Percentage of the training data to use for validation\")\n",
    "tf.flags.DEFINE_string(\"file_path\", \"thu_data_3class_3w\", \"Data source.\")\n",
    "tf.flags.DEFINE_integer(\"num_classes\", 3, \"number classes of datasets.\")\n",
    "\n",
    "# Model Hyperparameters\n",
    "tf.flags.DEFINE_integer(\"embedding_dim\", 200, \"Dimensionality of character embedding (default: 128)\")\n",
    "tf.flags.DEFINE_float(\"dropout_keep_prob\", 0.5, \"Dropout keep probability (default: 0.5)\")\n",
    "tf.flags.DEFINE_float(\"l2_reg_lambda\", 0.0, \"L2 regularization lambda (default: 0.0)\")\n",
    "tf.app.flags.DEFINE_integer(\"num_sampled\",50,\"number of noise sampling\") \n",
    "\n",
    "# Training parameters\n",
    "tf.flags.DEFINE_integer(\"batch_size\", 32, \"Batch Size (default: 64)\")\n",
    "tf.flags.DEFINE_integer(\"num_epochs\", 100, \"Number of training epochs (default: 200)\")\n",
    "tf.flags.DEFINE_integer(\"evaluate_every\", 100, \"Evaluate model on dev set after this many steps (default: 100)\")\n",
    "tf.flags.DEFINE_integer(\"checkpoint_every\", 100, \"Save model after this many steps (default: 100)\")\n",
    "tf.flags.DEFINE_integer(\"num_checkpoints\", 5, \"Number of checkpoints to store (default: 5)\")\n",
    "# Misc Parameters\n",
    "tf.flags.DEFINE_boolean(\"allow_soft_placement\", True, \"Allow device soft device placement\")\n",
    "tf.flags.DEFINE_boolean(\"log_device_placement\", False, \"Log placement of ops on devices\")\n",
    "\n",
    "FLAGS = tf.flags.FLAGS\n",
    "FLAGS._parse_flags()\n",
    "print('\\nParameters')\n",
    "for attr, value in sorted(FLAGS.__flags.items()):\n",
    "    print(\"{}={}\".format(attr.upper(), value))\n",
    "print(\"\")"
   ]
  },
  {
   "cell_type": "markdown",
   "metadata": {},
   "source": [
    "#### 2. 加载数据"
   ]
  },
  {
   "cell_type": "code",
   "execution_count": null,
   "metadata": {
    "collapsed": true
   },
   "outputs": [],
   "source": [
    ""
   ]
  },
  {
   "cell_type": "markdown",
   "metadata": {},
   "source": [
    "#### 3. 网络模型定义"
   ]
  },
  {
   "cell_type": "code",
   "execution_count": 5,
   "metadata": {
    "collapsed": true
   },
   "outputs": [],
   "source": [
    "class fastText(object):\n",
    "    def __init__(self, num_classes, sentence_length, vovab_size, embedding_dims,num_sampled,\n",
    "                 l2_reg_lambda):\n",
    "        \"\"\"\n",
    "\n",
    "        :param num_classes:\n",
    "        :param sentence_length:\n",
    "        :param vovab_size:\n",
    "        :param embedding_dims:\n",
    "        \"\"\"\n",
    "        self.num_classes = num_classes\n",
    "        self.sentence_length = sentence_length\n",
    "        self.vocab_size = vovab_size\n",
    "        self.embedding_dims = embedding_dims\n",
    "        self.l2_reg_lambda = l2_reg_lambda\n",
    "        self.num_sampled = num_sampled\n",
    "\n",
    "        self.input_x = tf.placeholder(tf.int32, [None, self.sentence_length], name='input_x')\n",
    "        self.input_y = tf.placeholder(tf.int32, [None, self.num_classes], name='input_y')\n",
    "\n",
    "        self.loss = tf.constant(0.0)\n",
    "        self.network()\n",
    "\n",
    "    def network(self):\n",
    "        \"\"\"\n",
    "\n",
    "        :return:\n",
    "        \"\"\"\n",
    "        # 1. embedding layer\n",
    "        with tf.device('/cpu:0'), tf.name_scope('embedding'):\n",
    "            self.Embedding = tf.Variable(tf.random_uniform([self.vocab_size, self.embedding_dims],\n",
    "                                                           -1., 1.,dtype=tf.float32), name='Embedding')\n",
    "            self.embedding_chars = tf.nn.embedding_lookup(self.Embedding, self.input_x)\n",
    "\n",
    "        # 2. skip gram\n",
    "        with tf.name_scope('skip-gram'):\n",
    "            self.sentence_embedd = tf.reduce_mean(self.embedding_chars, axis=1)\n",
    "\n",
    "            #FC\n",
    "            self.W = tf.get_variable('W', [self.embedding_dims, self.num_classes])\n",
    "            self.b = tf.get_variable('b', [self.num_classes])\n",
    "\n",
    "            self.logits = tf.matmul(self.sentence_embedd, self.W) + self.b\n",
    "\n",
    "        with tf.name_scope('loss'):\n",
    "            # classes = tf.reshape(self.num_classes, [-1])\n",
    "            # classes = tf.expand_dims(classes, 1)\n",
    "            # self.loss = tf.reduce_mean(tf.nn.nce_loss(weights=tf.transpose(self.W),\n",
    "            #                                       biases=self.b,\n",
    "            #                                       labels=classes,\n",
    "            #                                       inputs=self.sentence_embedd,\n",
    "            #                                       num_sampled=self.num_sampled,\n",
    "            #                                       num_classes=self.num_classes,\n",
    "            #                                       partition_strategy='div'))\n",
    "            self.loss = tf.nn.sparse_softmax_cross_entropy_with_logits(logits=self.logits,\n",
    "                                                                       labels=self.input_y)\n",
    "            l2_loss = tf.nn.l2_loss(self.W)\n",
    "            l2_loss += tf.nn.l2_loss(self.b)\n",
    "            self.loss += l2_loss * self.l2_reg_lambda\n",
    "\n",
    "        with tf.name_scope('accuracy'):\n",
    "            self.predicted = tf.argmax(self.logits, axis=1, name='predicted')\n",
    "            corr = tf.equal(self.predicted, self.input_y)\n",
    "            self.accuracy = tf.reduce_mean(tf.cast(corr, dtype=tf.float32), name='accuracy')"
   ]
  },
  {
   "cell_type": "markdown",
   "metadata": {},
   "source": [
    "#### 4. 模型训练"
   ]
  },
  {
   "cell_type": "code",
   "execution_count": 6,
   "metadata": {},
   "outputs": [
    {
     "ename": "NameError",
     "evalue": "name 'x_train' is not defined",
     "traceback": [
      "\u001b[0;31m---------------------------------------------------------------------------\u001b[0m",
      "\u001b[0;31mNameError\u001b[0m                                 Traceback (most recent call last)",
      "\u001b[0;32m<ipython-input-6-1074a935b607>\u001b[0m in \u001b[0;36m<module>\u001b[0;34m()\u001b[0m\n\u001b[1;32m      8\u001b[0m         ft = fastText(\n\u001b[1;32m      9\u001b[0m             \u001b[0mnum_classes\u001b[0m\u001b[0;34m=\u001b[0m\u001b[0mFLAGS\u001b[0m\u001b[0;34m.\u001b[0m\u001b[0mnum_classes\u001b[0m\u001b[0;34m,\u001b[0m\u001b[0;34m\u001b[0m\u001b[0m\n\u001b[0;32m---> 10\u001b[0;31m             \u001b[0msentence_length\u001b[0m\u001b[0;34m=\u001b[0m\u001b[0mx_train\u001b[0m\u001b[0;34m.\u001b[0m\u001b[0mshape\u001b[0m\u001b[0;34m[\u001b[0m\u001b[0;36m1\u001b[0m\u001b[0;34m]\u001b[0m\u001b[0;34m,\u001b[0m\u001b[0;34m\u001b[0m\u001b[0m\n\u001b[0m\u001b[1;32m     11\u001b[0m             \u001b[0mvovab_size\u001b[0m\u001b[0;34m=\u001b[0m\u001b[0mlen\u001b[0m\u001b[0;34m(\u001b[0m\u001b[0mword_index\u001b[0m\u001b[0;34m)\u001b[0m\u001b[0;34m,\u001b[0m\u001b[0;34m\u001b[0m\u001b[0m\n\u001b[1;32m     12\u001b[0m             \u001b[0membedding_dims\u001b[0m\u001b[0;34m=\u001b[0m\u001b[0mFLAGS\u001b[0m\u001b[0;34m.\u001b[0m\u001b[0membedding_dims\u001b[0m\u001b[0;34m,\u001b[0m\u001b[0;34m\u001b[0m\u001b[0m\n",
      "\u001b[0;31mNameError\u001b[0m: name 'x_train' is not defined"
     ],
     "output_type": "error"
    }
   ],
   "source": [
    "with tf.Graph().as_default():\n",
    "    session_conf = tf.ConfigProto(\n",
    "      allow_soft_placement=FLAGS.allow_soft_placement,\n",
    "      log_device_placement=FLAGS.log_device_placement)\n",
    "    sess = tf.Session(config=session_conf)\n",
    "    with sess.as_default():\n",
    "        # 构建cnn 节点\n",
    "        ft = fastText(\n",
    "            num_classes=FLAGS.num_classes,\n",
    "            sentence_length=x_train.shape[1],\n",
    "            vovab_size=len(word_index),\n",
    "            embedding_dims=FLAGS.embedding_dims,\n",
    "            num_sampled=FLAGS.num_sampled,\n",
    "            l2_reg_lambda=FLAGS.l2_reg_lambda)\n",
    "\n",
    "        # Define Training procedure\n",
    "        global_step = tf.Variable(0, name=\"global_step\", trainable=False)\n",
    "        # 优化算法\n",
    "        optimizer = tf.train.AdamOptimizer(1e-3)\n",
    "        grads_and_vars = optimizer.compute_gradients(cnn.loss)\n",
    "\n",
    "        train_op = optimizer.apply_gradients(grads_and_vars, global_step=global_step)\n",
    "\n",
    "        # Keep track of gradient values and sparsity (optional)\n",
    "        grad_summaries = []\n",
    "        for g, v in grads_and_vars:\n",
    "            if g is not None:\n",
    "                grad_hist_summary = tf.summary.histogram(\"{}/grad/hist\".format(v.name), g)\n",
    "                sparsity_summary = tf.summary.scalar(\"{}/grad/sparsity\".format(v.name),\n",
    "                                                     tf.nn.zero_fraction(g))\n",
    "                grad_summaries.append(grad_hist_summary)\n",
    "                grad_summaries.append(sparsity_summary)\n",
    "        grad_summaries_merged = tf.summary.merge(grad_summaries)\n",
    "\n",
    "        # Output directory for models and summaries\n",
    "        timestamp = str(int(time.time()))\n",
    "        out_dir = os.path.abspath(os.path.join(os.path.curdir, \"runs\", timestamp))\n",
    "        print(\"Writing to {}\\n\".format(out_dir))\n",
    "\n",
    "        # Summaries for loss and accuracy\n",
    "        loss_summary = tf.summary.scalar(\"loss\", ft.loss)\n",
    "        acc_summary = tf.summary.scalar(\"accuracy\", ft.accuracy)\n",
    "\n",
    "        # Train Summaries\n",
    "        train_summary_op = tf.summary.merge([loss_summary, acc_summary, grad_summaries_merged])\n",
    "        train_summary_dir = os.path.join(out_dir, \"summaries\", \"train\")\n",
    "        train_summary_writer = tf.summary.FileWriter(train_summary_dir, sess.graph)\n",
    "\n",
    "        # Dev summaries\n",
    "        dev_summary_op = tf.summary.merge([loss_summary, acc_summary])\n",
    "        dev_summary_dir = os.path.join(out_dir, \"summaries\", \"dev\")\n",
    "        dev_summary_writer = tf.summary.FileWriter(dev_summary_dir, sess.graph)\n",
    "\n",
    "        # Checkpoint directory. Tensorflow assumes this directory already exists so we need to create it\n",
    "        checkpoint_dir = os.path.abspath(os.path.join(out_dir, \"checkpoints\"))\n",
    "        checkpoint_prefix = os.path.join(checkpoint_dir, \"model\")\n",
    "        if not os.path.exists(checkpoint_dir):\n",
    "            os.makedirs(checkpoint_dir)\n",
    "        saver = tf.train.Saver(tf.global_variables(), max_to_keep=FLAGS.num_checkpoints)\n",
    "\n",
    "        # Write vocabulary\n",
    "        vocab_processor.save(os.path.join(out_dir, \"vocab\"))\n",
    "\n",
    "        # Initialize all variables\n",
    "        sess.run(tf.global_variables_initializer())\n",
    "\n",
    "        def train_step(x_batch, y_batch):\n",
    "            \"\"\"\n",
    "            A single training step\n",
    "            \"\"\"\n",
    "            feed_dict = {\n",
    "              ft.input_x: x_batch,\n",
    "              ft.input_y: y_batch,\n",
    "            }\n",
    "            # 执行 节点操作\n",
    "            _, step, summaries, loss, accuracy, predicted = sess.run(\n",
    "                [train_op, global_step, train_summary_op, ft.loss, ft.accuracy, ft.predicted],\n",
    "                feed_dict)\n",
    "\n",
    "            time_str = datetime.datetime.now().isoformat()\n",
    "            if step % 20 == 0:\n",
    "                print(\"{}: step {}, loss {:g}, acc {:g}, predicted {:g}\".format(time_str, step, loss, accuracy, predicted))\n",
    "            train_summary_writer.add_summary(summaries, step)\n",
    "\n",
    "        def dev_step(x_batch, y_batch, writer=None):\n",
    "            \"\"\"\n",
    "            Evaluates model on a dev set\n",
    "            \"\"\"\n",
    "            feed_dict = {\n",
    "              ft.input_x: x_batch,\n",
    "              ft.input_y: y_batch,\n",
    "            }\n",
    "            step, summaries, loss, accuracy, predicted = sess.run(\n",
    "                [global_step, dev_summary_op, ft.loss, ft.accuracy, ft.predicted],\n",
    "                feed_dict)\n",
    "            time_str = datetime.datetime.now().isoformat()\n",
    "            print(\"{}: step {}, loss {:g}, acc {:g}, predicted {:g}\".format(time_str, step, loss, accuracy, predicted))\n",
    "            if writer:\n",
    "                writer.add_summary(summaries, step)\n",
    "            return loss, accuracy, predicted\n",
    "        # Generate batches\n",
    "        batches = batch_iter(\n",
    "            list(zip(x_train, y_train)), FLAGS.batch_size, FLAGS.num_epochs)\n",
    "        # Training loop. For each batch...\n",
    "        best_acc = 0.0\n",
    "        best_step = 0\n",
    "        predicted = 0.0\n",
    "        for batch in batches:\n",
    "            x_batch, y_batch = zip(*batch)\n",
    "            train_step(x_batch, y_batch)\n",
    "            # 更新全局步数\n",
    "            current_step = tf.train.global_step(sess, global_step)\n",
    "            # 计算评估结果\n",
    "            if current_step % FLAGS.evaluate_every == 0:\n",
    "                print(\"\\nEvaluation:\")\n",
    "                loss_, accuracy_, predicted_ = dev_step(x_dev, y_dev, writer=dev_summary_writer)\n",
    "                if accuracy_ > best_acc:\n",
    "                    best_acc = accuracy_\n",
    "                    predicted = predicted_\n",
    "                    best_step = current_step\n",
    "                    \n",
    "                print(\"\")\n",
    "            # 保存模型计算结果\n",
    "            if current_step % FLAGS.checkpoint_every == 0:\n",
    "                path = saver.save(sess, checkpoint_prefix, global_step=current_step)\n",
    "                print(\"Saved model checkpoint to {}\\n\".format(path))\n",
    "\n",
    "        print('\\nBset dev at {}, accuray {:g}, predicted {:g}'.format(best_step, best_acc, predicted))"
   ]
  },
  {
   "cell_type": "code",
   "execution_count": 11,
   "metadata": {},
   "outputs": [],
   "source": [
    "start_time = datetime.datetime.now()"
   ]
  },
  {
   "cell_type": "code",
   "execution_count": 29,
   "metadata": {},
   "outputs": [
    {
     "data": {
      "text/plain": [
       "282"
      ]
     },
     "execution_count": 29,
     "metadata": {},
     "output_type": "execute_result"
    }
   ],
   "source": [
    "end_time = datetime.datetime.now()\n",
    "(end_time - start_time).seconds\n",
    "\n",
    "# print('time used {:}'.format(end_time - start_time).ctime())"
   ]
  },
  {
   "cell_type": "code",
   "execution_count": null,
   "metadata": {
    "collapsed": true
   },
   "outputs": [],
   "source": [
    "time = 3600"
   ]
  }
 ],
 "metadata": {
  "kernelspec": {
   "display_name": "Python 2",
   "language": "python",
   "name": "python2"
  },
  "language_info": {
   "codemirror_mode": {
    "name": "ipython",
    "version": 2.0
   },
   "file_extension": ".py",
   "mimetype": "text/x-python",
   "name": "python",
   "nbconvert_exporter": "python",
   "pygments_lexer": "ipython2",
   "version": "2.7.10"
  }
 },
 "nbformat": 4,
 "nbformat_minor": 0
}